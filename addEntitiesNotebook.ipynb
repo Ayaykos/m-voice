{
 "cells": [
  {
   "cell_type": "code",
   "execution_count": null,
   "metadata": {},
   "outputs": [],
   "source": [
    "!pip uninstall -y google-cloud-datastore\n",
    "!pip install google-cloud-datastore\n",
    "!pip install --upgrade pip\n",
    "!yes | pip uninstall dialogflow\n",
    "!pip install dialogflow==0.3.0"
   ]
  },
  {
   "cell_type": "code",
   "execution_count": null,
   "metadata": {},
   "outputs": [],
   "source": [
    "from google.cloud import datastore\n",
    "import dialogflow\n",
    "\n",
    "client = datastore.Client()"
   ]
  },
  {
   "cell_type": "code",
   "execution_count": null,
   "metadata": {},
   "outputs": [],
   "source": [
    "def addEntitiesToDatastore(datafile, dataStoreKind):\n",
    "    file = open(datafile,'r')\n",
    "    for i in file:\n",
    "        locations_key = client.key(dataStoreKind, i.rstrip(\"\\n\\r\"))\n",
    "        locations = datastore.Entity(key=locations_key)\n",
    "        client.put(locations)\n",
    "\n",
    "addEntitiesToDatastore('LocationFull.txt','Locations')\n",
    "addEntitiesToDatastore('MealFull.txt','Meals')"
   ]
  },
  {
   "cell_type": "code",
   "execution_count": null,
   "metadata": {},
   "outputs": [],
   "source": [
    "def addEntityToDialogflow(dataStoreKind, dialogflowEntityName):\n",
    "  query = client.query(kind=dataStoreKind)\n",
    "  results = list(query.fetch())\n",
    "\n",
    "  entity_types_client = dialogflow.EntityTypesClient()\n",
    "\n",
    "\n",
    "  project_id = !(gcloud config get-value project)\n",
    "\n",
    "  project_agent_path = entity_types_client.project_agent_path(\n",
    "          project_id[0])\n",
    "\n",
    "  for element in entity_types_client.list_entity_types(project_agent_path):\n",
    "    if (element.display_name == dialogflowEntityName):\n",
    "      entity_type_path = element.name\n",
    "\n",
    "  project_id = !(gcloud config get-value project)\n",
    "\n",
    "  entities = []\n",
    "\n",
    "  for result in results:\n",
    "    entity = dialogflow.types.EntityType.Entity()\n",
    "    #print(entity.value)\n",
    "    entity.value = result.key.name\n",
    "    entity.synonyms.append(result.key.name)\n",
    "\n",
    "    entities.append(entity)\n",
    "\n",
    "  #print entities\n",
    "\n",
    "  response = entity_types_client.batch_create_entities(\n",
    "          entity_type_path, entities)\n",
    "\n",
    "  #print('Entity created: {}'.format(response))"
   ]
  },
  {
   "cell_type": "code",
   "execution_count": null,
   "metadata": {},
   "outputs": [],
   "source": [
    "addEntityToDialogflow('Locations','Locations')"
   ]
  },
  {
   "cell_type": "code",
   "execution_count": null,
   "metadata": {},
   "outputs": [],
   "source": [
    "addEntityToDialogflow('Meals','Meals')"
   ]
  }
 ],
 "metadata": {
  "kernelspec": {
   "display_name": "Python 2",
   "language": "python",
   "name": "python2"
  },
  "language_info": {
   "codemirror_mode": {
    "name": "ipython",
    "version": 2
   },
   "file_extension": ".py",
   "mimetype": "text/x-python",
   "name": "python",
   "nbconvert_exporter": "python",
   "pygments_lexer": "ipython2",
   "version": "2.7.15"
  }
 },
 "nbformat": 4,
 "nbformat_minor": 2
}
